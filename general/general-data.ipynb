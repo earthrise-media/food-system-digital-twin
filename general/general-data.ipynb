{
 "cells": [
  {
   "cell_type": "code",
   "execution_count": 1,
   "metadata": {},
   "outputs": [],
   "source": [
    "import concurrent.futures\n",
    "import pandas as pd\n",
    "import geopandas as gpd\n",
    "import mercantile\n",
    "import h3\n",
    "import matplotlib.pyplot as plt\n",
    "import plotly.express as px\n",
    "from shapely.geometry import Point\n",
    "from shapely.geometry import shape\n",
    "from shapely.geometry import box\n",
    "import multiprocessing as mp"
   ]
  },
  {
   "attachments": {},
   "cell_type": "markdown",
   "metadata": {},
   "source": [
    "114 m per side (13004 sq meters) at zoom 18\n",
    "\n",
    "228 m per side (52016 sq meters) at zoom 17\n",
    "\n",
    "445 m per side (198709 sq meters) at zoom 16\n",
    "\n",
    "892 m per side (794783 sq meters) at zoom 15\n",
    "\n",
    "\n",
    "[A typical field is ~200 sq meters](https://www.sciencedirect.com/science/article/pii/S0034425715301851) which would be zoom 17, but that makes the data much harder to work with. Going with zoom 15 for now and will upsample if we think it would make the data viz better.\n",
    "\n",
    "At zoom 17 we're working with 247626816 tiles. It took 92 minutes 28 seconds.\n",
    "At zoom 15 we're working with 15477408 tiles and it took about 10 minutes."
   ]
  },
  {
   "cell_type": "code",
   "execution_count": null,
   "metadata": {},
   "outputs": [],
   "source": [
    "import geopandas as gpd\n",
    "import mercantile\n",
    "from shapely.geometry import box\n",
    "bbox = [-125.0011, 24.8467, -66.9326, 49.9499]\n",
    "tiles = list(mercantile.tiles(*bbox, zooms=[15]))\n",
    "polygons = [mercantile.bounds(tile) for tile in tiles]\n",
    "print(\"step 1 done\")\n",
    "geometries = [box(bbox[0], bbox[1], bbox[2], bbox[3]) for bbox in polygons]\n",
    "print(\"step 2 done\")\n",
    "gdf = gpd.GeoDataFrame(geometry=geometries)\n",
    "print(\"step 3 done\")\n",
    "gdf['quadkey'] = [mercantile.quadkey(tile) for tile in tiles]\n",
    "print(\"step 4 done\")\n",
    "gdf = gdf.set_crs(epsg=4326)\n",
    "print(\"step 5 done\")\n",
    "gdf"
   ]
  },
  {
   "cell_type": "code",
   "execution_count": 88,
   "metadata": {},
   "outputs": [],
   "source": [
    "# Stand alone function to convert a bounding box to a grid of tiles\n",
    "import geopandas as gpd\n",
    "import mercantile\n",
    "from shapely.geometry import box\n",
    "def bbox_to_grid (bbox, zoom):\n",
    "  tiles = list(mercantile.tiles(*bbox, zooms=[zoom]))\n",
    "  print(\"Tile List Generated\")\n",
    "  polygons = [mercantile.bounds(tile) for tile in tiles]\n",
    "  print(\"Polygons Generated\")\n",
    "  geometries = [box(bbox[0], bbox[1], bbox[2], bbox[3]) for bbox in polygons]\n",
    "  print(\"Polygons converted to Shapely Geometries\")\n",
    "  gdf = gpd.GeoDataFrame(geometry=geometries)\n",
    "  gdf['quadkey'] = [mercantile.quadkey(tile) for tile in tiles]\n",
    "  print(\"Quadkeys added to GeoDataFrame\")\n",
    "  gdf = gdf.set_crs(epsg=4326)\n",
    "  return (gdf)\n",
    "\n",
    "# test_box = [-125.0011, 24.8467, -66.9326, 49.9499]\n",
    "# bbox_to_grid(test_box)"
   ]
  },
  {
   "attachments": {},
   "cell_type": "markdown",
   "metadata": {},
   "source": [
    "This code does spatial joins of states and counties with grid"
   ]
  },
  {
   "cell_type": "code",
   "execution_count": 14,
   "metadata": {},
   "outputs": [],
   "source": [
    "grid = gpd.read_parquet(\"../unsynced-data/grid_z15.parquet\")\n",
    "states = gpd.read_file(\"../unsynced-data/cb_2017_us_state_500k/cb_2017_us_state_500k.shp\")\n",
    "counties = gpd.read_file(\"../unsynced-data/cb_2017_us_county_500k/cb_2017_us_county_500k.shp\")\n",
    "counties = gpd.read_file(\"../unsynced-data/cb_2017_us_county_500k/cb_2017_us_county_500k.shp\")\n",
    "counties.columns = [col + '_counties' if col != 'geometry' else col for col in counties.columns]\n",
    "states = states.to_crs(epsg=4326)\n",
    "counties = counties.to_crs(epsg=4326)\n",
    "grid = grid.to_crs(epsg=4326)"
   ]
  },
  {
   "cell_type": "code",
   "execution_count": null,
   "metadata": {},
   "outputs": [],
   "source": [
    "# do a spatial join of gdf and states\n",
    "grid = gpd.sjoin(grid, states, how=\"left\", op='intersects')\n",
    "grid = grid.drop(columns=['index_right'])\n",
    "print (\"States join is finished\")\n"
   ]
  },
  {
   "cell_type": "code",
   "execution_count": null,
   "metadata": {},
   "outputs": [],
   "source": [
    "grid = gpd.sjoin(grid, counties, how=\"left\", op='intersects')\n",
    "print (\"Counties join is finished\")\n",
    "grid"
   ]
  },
  {
   "attachments": {},
   "cell_type": "markdown",
   "metadata": {},
   "source": [
    "Handling names of columns in the grid dataset"
   ]
  },
  {
   "cell_type": "code",
   "execution_count": null,
   "metadata": {},
   "outputs": [],
   "source": [
    "grid = grid.drop(columns=['index_right'])\n",
    "grid = grid.dropna(subset=['NAME'])"
   ]
  },
  {
   "cell_type": "code",
   "execution_count": null,
   "metadata": {},
   "outputs": [],
   "source": [
    "\n",
    "grid = grid.drop(columns=['STATEFP_counties'])\n",
    "grid = grid.rename(columns={'COUNTYFP_counties': 'COUNTYFP'})\n",
    "grid = grid.rename(columns={'AFFGEOID_counties': 'AFFGEOID'})\n",
    "grid = grid.rename(columns={'GEOID_counties': 'GEOID_COUNTY'})\n",
    "grid = grid.rename(columns={'NAME_counties': 'NAME_COUNTY'})\n",
    "grid = grid.rename(columns={'LSAD_counties': 'LSAD_COUNTY'})\n",
    "grid = grid.rename(columns={'ALAND_counties': 'ALAND_COUNTY'})\n",
    "grid = grid.rename(columns={'AWATER_counties': 'AWATER_COUNTY'})\n",
    "grid = grid.rename(columns={'COUNTYNS_counties': 'COUNTYNS'})\n",
    "grid = grid.rename(columns={'GEOID': 'GEOID_STATE'})\n",
    "grid = grid.rename(columns={'NAME': 'NAME_STATE'})\n",
    "grid = grid.rename(columns={'LSAD': 'LSAD_STATE'})\n",
    "grid = grid.rename(columns={'ALAND': 'ALAND_STATE'})\n",
    "grid = grid.rename(columns={'AWATER': 'AWATER_STATE'})\n",
    "grid = grid.rename(columns={'COUNTYNS_counties': 'COUNTYNS'})\n",
    "grid = grid.reset_index(drop=True)"
   ]
  },
  {
   "attachments": {},
   "cell_type": "markdown",
   "metadata": {},
   "source": [
    "Final column names"
   ]
  },
  {
   "cell_type": "code",
   "execution_count": 89,
   "metadata": {},
   "outputs": [
    {
     "data": {
      "text/plain": [
       "Index(['geometry', 'quadkey', 'STATEFP', 'STATENS', 'GEOID_STATE', 'STUSPS',\n",
       "       'NAME_STATE', 'LSAD_STATE', 'ALAND_STATE', 'AWATER_STATE', 'COUNTYFP',\n",
       "       'COUNTYNS', 'GEOID_COUNTY', 'NAME_COUNTY', 'LSAD_COUNTY',\n",
       "       'ALAND_COUNTY', 'AWATER_COUNTY'],\n",
       "      dtype='object')"
      ]
     },
     "execution_count": 89,
     "metadata": {},
     "output_type": "execute_result"
    }
   ],
   "source": [
    "grid.columns"
   ]
  },
  {
   "attachments": {},
   "cell_type": "markdown",
   "metadata": {},
   "source": [
    "Writing to files"
   ]
  },
  {
   "cell_type": "code",
   "execution_count": 70,
   "metadata": {},
   "outputs": [],
   "source": [
    "# write to parquet file\n",
    "grid.to_parquet(\"../unsynced-data/grid_z15.parquet\")"
   ]
  },
  {
   "cell_type": "code",
   "execution_count": 73,
   "metadata": {},
   "outputs": [],
   "source": [
    "grid.to_file(\"../unsynced-data/grid_z15.geojson\", driver='GeoJSON')"
   ]
  },
  {
   "attachments": {},
   "cell_type": "markdown",
   "metadata": {},
   "source": [
    "Once the `grid` dataset was compiled, I wrote to a geojson file. I downloaded TIF Cropscape data across the US [from this site](https://nassgeodata.gmu.edu/CropScape/).\n",
    "\n",
    "I merged the state data from this site using GDAL command: `gdal_merge.py -o outfile.tif in-file1.tif in-file2.tif -n 0`\n",
    "\n",
    "Once I had a merged tif and grid data in geojson I ran a zonal histogram in QGIS. I would have rather run this with a parquet file instead of geojson, but it wasn't supported in my version of QGIS."
   ]
  },
  {
   "attachments": {},
   "cell_type": "markdown",
   "metadata": {},
   "source": [
    "I used the `grid` dataframe as a geojson file and ran a zonal histogram with crop raster data in QGIS.\n"
   ]
  }
 ],
 "metadata": {
  "kernelspec": {
   "display_name": "geo",
   "language": "python",
   "name": "python3"
  },
  "language_info": {
   "codemirror_mode": {
    "name": "ipython",
    "version": 3
   },
   "file_extension": ".py",
   "mimetype": "text/x-python",
   "name": "python",
   "nbconvert_exporter": "python",
   "pygments_lexer": "ipython3",
   "version": "3.10.6"
  },
  "orig_nbformat": 4
 },
 "nbformat": 4,
 "nbformat_minor": 2
}
